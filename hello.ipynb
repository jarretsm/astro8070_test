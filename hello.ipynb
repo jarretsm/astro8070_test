{
 "cells": [
  {
   "cell_type": "code",
   "execution_count": 1,
   "id": "7a95d836-00a6-4e2f-8b1d-bcee99c9cbbb",
   "metadata": {},
   "outputs": [
    {
     "name": "stdout",
     "output_type": "stream",
     "text": [
      "Hello World!\n"
     ]
    }
   ],
   "source": [
    "print(\"Hello World!\")"
   ]
  },
  {
   "cell_type": "code",
   "execution_count": 3,
   "id": "bf4f7c46-098e-414f-8a8f-6567a0f5cdeb",
   "metadata": {},
   "outputs": [
    {
     "data": {
      "text/plain": [
       "(<function print>, 4)"
      ]
     },
     "execution_count": 3,
     "metadata": {},
     "output_type": "execute_result"
    }
   ],
   "source": [
    "x=2+2\n",
    "print, x"
   ]
  },
  {
   "cell_type": "code",
   "execution_count": null,
   "id": "dad5c146-7ed8-48c2-b2b2-5ad3340dc4a4",
   "metadata": {},
   "outputs": [],
   "source": []
  }
 ],
 "metadata": {
  "kernelspec": {
   "display_name": "Python [conda env:astr8070] *",
   "language": "python",
   "name": "conda-env-astr8070-py"
  },
  "language_info": {
   "codemirror_mode": {
    "name": "ipython",
    "version": 3
   },
   "file_extension": ".py",
   "mimetype": "text/x-python",
   "name": "python",
   "nbconvert_exporter": "python",
   "pygments_lexer": "ipython3",
   "version": "3.10.13"
  }
 },
 "nbformat": 4,
 "nbformat_minor": 5
}
